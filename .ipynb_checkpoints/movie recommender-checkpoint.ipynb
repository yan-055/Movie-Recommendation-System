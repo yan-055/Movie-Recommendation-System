{
 "cells": [
  {
   "cell_type": "markdown",
   "metadata": {},
   "source": [
    "## Recommender Systems"
   ]
  },
  {
   "cell_type": "markdown",
   "metadata": {},
   "source": [
    "[A recommender system](https://en.wikipedia.org/wiki/Recommender_system) is a subclass of information filtering system that provide suggestions for items that are most pertinent to a particular user. It works as an information filter to solve the information overload problem. \n",
    "* Personalized - tailored to individual users, based on a user's previous performance\n",
    "\n",
    "* Non personalized - most popular, recent upload, based on aggregate activities of many other users \n",
    "\n",
    "__Basic question: what items will a user like ?__\n",
    "\n",
    "Recommender systems aim to predict the “rating” or “preference” a user would give to an item. These ratings are used to determine what a user might like and make informed suggestions."
   ]
  },
  {
   "cell_type": "markdown",
   "metadata": {},
   "source": [
    "__User Preferences__:\n",
    "* explicit data - rating, review, vote\n",
    "\n",
    "* implicit data - click, purchase, follow"
   ]
  },
  {
   "cell_type": "markdown",
   "metadata": {},
   "source": [
    "__Recommendation Approaches:__\n",
    "  * Content-based filtering - relies on similarities between items themselves (uses item features to recommend other items similar to what the user likes)\n",
    "                              \n",
    "  * Collaborative filtering - relies on the assumption that similar users like similar items (recommend an item to the user based on the preference of other similar users) \n",
    "\n",
    "  The content-based approach doesn't require data on other users, but it's difficult to find appropriate features. The most significant benefit of collaborative filtering is its versatility, as it can be applied to any type of item without the need for feature selection. This explains the huge popularity of collaborative filtering because it is sort of obviating the feature selection for complex things such as images and movies."
   ]
  },
  {
   "cell_type": "markdown",
   "metadata": {},
   "source": [
    "<img src=\"./Images/utility-matrix.png\" \n",
    "     align=\"center\" \n",
    "     width=\"800\" />"
   ]
  },
  {
   "cell_type": "markdown",
   "metadata": {},
   "source": [
    "A collaborative filtering recommender system has two types of entities - users and items. A important step in making recommendations is to build a utility matrix of ratings (or preferences).\n",
    "\n",
    "__Utility Matrix:__\n",
    " * A matrix which consists of the rating (or preference) for each user-item pair\n",
    " * Sparsity arises when most items dosen't have ratings or the most active users have rated only a marginal number of available items\n",
    "\n",
    "__The goal of a recommendation system is to predict the blanks in the utility matrix.__"
   ]
  },
  {
   "cell_type": "markdown",
   "metadata": {},
   "source": [
    "<img src=\"./Images/matrix-factorization.png\" \n",
    "     align=\"center\" \n",
    "     width=\"800\" />"
   ]
  },
  {
   "cell_type": "markdown",
   "metadata": {},
   "source": [
    "Matrix factorization is an extensively used technique to estimate values of the blanks in collaborative filtering recommendation systems. Its objective is to factorize a user-item matrix into two latent factor matrices, the user-factor matrix and the item-factor matrix. This allows us to predict new items that users might be interested in by taking the inner product of these two factor matrices. Matrix factorization reduces the dimensionality of the utility matrix, which compresses data and remove redundant and noisy features.\n",
    "\n",
    "__Methods for Implementing Matrix Factorization:__\n",
    "* Principal component analysis (PCA, implemented by scikit-learn in Python)\n",
    "* Singular value decomposition (SVD, implemented by scikit-surprise in Python)"
   ]
  },
  {
   "cell_type": "markdown",
   "metadata": {},
   "source": [
    "## Autoencoder for Recommendations"
   ]
  },
  {
   "cell_type": "markdown",
   "metadata": {},
   "source": [
    "Autoencoder is a kind of neural network for unsupervised learning tasks, capable of compressing data and reducing its dimensionality.\n",
    "\n",
    "A basic autoencoder consists of three layers: input layer, hidden layer and output layer. The input layer and the hidden layer construct an encoder. The hidden layer and the output layer construct a decoder. The encoder encodes the high-dimensional input data into a low dimensional hidden representation. The decoder maps hidden representation back to a reconstruction of input data. This reconstruction allows to predict users’ preference for unseen items. \n",
    "\n",
    "In autoencoder-based recommender systems, autoencoder would help the system better understand users and items by learning the non-linear user-item relationship efficiently and encoding complex abstractions into data representations. This is because nonlinear activation functions are used during encoding and decoding, and the number of neurons in the hidden layer is reduced."
   ]
  },
  {
   "cell_type": "markdown",
   "metadata": {},
   "source": [
    "<img src=\"./Images/autoencoder.png\" \n",
    "     align=\"center\" \n",
    "     width=\"500\" />"
   ]
  },
  {
   "cell_type": "markdown",
   "metadata": {},
   "source": [
    "## An Autoecoder-based Movie Recommendation System"
   ]
  },
  {
   "cell_type": "code",
   "execution_count": 1,
   "metadata": {},
   "outputs": [
    {
     "name": "stderr",
     "output_type": "stream",
     "text": [
      "/home/studio-lab-user/.conda/envs/deepar-gpu/lib/python3.10/site-packages/tqdm/auto.py:21: TqdmWarning: IProgress not found. Please update jupyter and ipywidgets. See https://ipywidgets.readthedocs.io/en/stable/user_install.html\n",
      "  from .autonotebook import tqdm as notebook_tqdm\n"
     ]
    },
    {
     "name": "stdout",
     "output_type": "stream",
     "text": [
      "cpu\n"
     ]
    }
   ],
   "source": [
    "import torch\n",
    "import pandas as pd\n",
    "import numpy as np\n",
    "import seaborn as sns \n",
    "import matplotlib.pyplot as plt\n",
    "from sklearn.metrics import precision_score, recall_score\n",
    "device = torch.device(\"cuda\" if torch.cuda.is_available() else \"cpu\")\n",
    "print(device)"
   ]
  },
  {
   "cell_type": "markdown",
   "metadata": {},
   "source": [
    "### (a) Load Dataset"
   ]
  },
  {
   "cell_type": "markdown",
   "metadata": {},
   "source": [
    "MovieLens 100k dataset consists of:\n",
    "* 100,000 ratings (1-5) from 943 users on 1682 movies\n",
    "* Each user has rated at least 20 movies\n",
    "* Simple demographic info for the users (age, gender, occupation, zip)\n",
    "\n",
    "This data has been cleaned up - users who had less than 20 ratings or did not have complete demographic information were removed from this data set. "
   ]
  },
  {
   "cell_type": "code",
   "execution_count": 23,
   "metadata": {},
   "outputs": [
    {
     "name": "stdout",
     "output_type": "stream",
     "text": [
      "Number of users: 943\n",
      "Number of movies: 1682\n",
      "The size of rating dataset: (100000, 4)\n"
     ]
    },
    {
     "data": {
      "text/html": [
       "<div>\n",
       "<style scoped>\n",
       "    .dataframe tbody tr th:only-of-type {\n",
       "        vertical-align: middle;\n",
       "    }\n",
       "\n",
       "    .dataframe tbody tr th {\n",
       "        vertical-align: top;\n",
       "    }\n",
       "\n",
       "    .dataframe thead th {\n",
       "        text-align: right;\n",
       "    }\n",
       "</style>\n",
       "<table border=\"1\" class=\"dataframe\">\n",
       "  <thead>\n",
       "    <tr style=\"text-align: right;\">\n",
       "      <th></th>\n",
       "      <th>user_id</th>\n",
       "      <th>movie_id</th>\n",
       "      <th>rating</th>\n",
       "      <th>unix_timestamp</th>\n",
       "    </tr>\n",
       "  </thead>\n",
       "  <tbody>\n",
       "    <tr>\n",
       "      <th>0</th>\n",
       "      <td>196</td>\n",
       "      <td>242</td>\n",
       "      <td>3</td>\n",
       "      <td>881250949</td>\n",
       "    </tr>\n",
       "    <tr>\n",
       "      <th>1</th>\n",
       "      <td>186</td>\n",
       "      <td>302</td>\n",
       "      <td>3</td>\n",
       "      <td>891717742</td>\n",
       "    </tr>\n",
       "    <tr>\n",
       "      <th>2</th>\n",
       "      <td>22</td>\n",
       "      <td>377</td>\n",
       "      <td>1</td>\n",
       "      <td>878887116</td>\n",
       "    </tr>\n",
       "    <tr>\n",
       "      <th>3</th>\n",
       "      <td>244</td>\n",
       "      <td>51</td>\n",
       "      <td>2</td>\n",
       "      <td>880606923</td>\n",
       "    </tr>\n",
       "    <tr>\n",
       "      <th>4</th>\n",
       "      <td>166</td>\n",
       "      <td>346</td>\n",
       "      <td>1</td>\n",
       "      <td>886397596</td>\n",
       "    </tr>\n",
       "  </tbody>\n",
       "</table>\n",
       "</div>"
      ],
      "text/plain": [
       "   user_id  movie_id  rating  unix_timestamp\n",
       "0      196       242       3       881250949\n",
       "1      186       302       3       891717742\n",
       "2       22       377       1       878887116\n",
       "3      244        51       2       880606923\n",
       "4      166       346       1       886397596"
      ]
     },
     "execution_count": 23,
     "metadata": {},
     "output_type": "execute_result"
    }
   ],
   "source": [
    "sel_cols = [\"user_id\", \"movie_id\", \"rating\", \"unix_timestamp\"]\n",
    "# all ratings for movies from users\n",
    "ratings_all = pd.read_csv(\"Data/ml-100k/u.data\", sep=\"\\t\", names=sel_cols, encoding=\"latin-1\")\n",
    "num_user= ratings_all['user_id'].unique().shape[0]\n",
    "num_movie = ratings_all['movie_id'].unique().shape[0]\n",
    "print(\"Number of users: \" + str(num_user))\n",
    "print(\"Number of movies: \" + str(num_movie))\n",
    "print(\"The size of rating dataset: \" + str(ratings_all.shape))\n",
    "ratings_all.head()"
   ]
  },
  {
   "cell_type": "code",
   "execution_count": 24,
   "metadata": {},
   "outputs": [
    {
     "data": {
      "text/plain": [
       "user_id           0\n",
       "movie_id          0\n",
       "rating            0\n",
       "unix_timestamp    0\n",
       "dtype: int64"
      ]
     },
     "execution_count": 24,
     "metadata": {},
     "output_type": "execute_result"
    }
   ],
   "source": [
    "# check missing values in the dataset\n",
    "ratings_all.isnull().sum()"
   ]
  },
  {
   "cell_type": "code",
   "execution_count": 25,
   "metadata": {},
   "outputs": [
    {
     "name": "stdout",
     "output_type": "stream",
     "text": [
      "the movie that is rated the most: 583\n",
      "the user who gives the most rating: 737\n"
     ]
    },
    {
     "data": {
      "text/plain": [
       "4    34174\n",
       "3    27145\n",
       "5    21201\n",
       "2    11370\n",
       "1     6110\n",
       "Name: rating, dtype: int64"
      ]
     },
     "execution_count": 25,
     "metadata": {},
     "output_type": "execute_result"
    }
   ],
   "source": [
    "# explore users' ratings (EDA)\n",
    "# the movie that is rated the most\n",
    "rated_most_movie = ratings_all.groupby(by='movie_id')['user_id'].count().max()\n",
    "print(\"the movie that is rated the most: \" + str(rated_most_movie))\n",
    "# the movie that is rated the least\n",
    "# the user who gives the most ratings\n",
    "user_rating_most = ratings_all.groupby(by='user_id')['movie_id'].count().max()\n",
    "print(\"the user who gives the most rating: \" + str(user_rating_most))\n",
    "# the user who gives the least ratings\n",
    "# number of ratings in each category\n",
    "ratings_all['rating'].value_counts()"
   ]
  },
  {
   "cell_type": "code",
   "execution_count": 26,
   "metadata": {},
   "outputs": [
    {
     "name": "stdout",
     "output_type": "stream",
     "text": [
      "The size ofß item dataset: (1682, 24)\n"
     ]
    },
    {
     "data": {
      "text/html": [
       "<div>\n",
       "<style scoped>\n",
       "    .dataframe tbody tr th:only-of-type {\n",
       "        vertical-align: middle;\n",
       "    }\n",
       "\n",
       "    .dataframe tbody tr th {\n",
       "        vertical-align: top;\n",
       "    }\n",
       "\n",
       "    .dataframe thead th {\n",
       "        text-align: right;\n",
       "    }\n",
       "</style>\n",
       "<table border=\"1\" class=\"dataframe\">\n",
       "  <thead>\n",
       "    <tr style=\"text-align: right;\">\n",
       "      <th></th>\n",
       "      <th>movie_id</th>\n",
       "      <th>movie_title</th>\n",
       "      <th>release_date</th>\n",
       "      <th>video_release_data</th>\n",
       "      <th>IMDB_URL</th>\n",
       "      <th>unknown</th>\n",
       "      <th>action</th>\n",
       "      <th>adventure</th>\n",
       "      <th>animation</th>\n",
       "      <th>children's</th>\n",
       "      <th>...</th>\n",
       "      <th>fantasy</th>\n",
       "      <th>film-noir</th>\n",
       "      <th>horror</th>\n",
       "      <th>musical</th>\n",
       "      <th>mystery</th>\n",
       "      <th>romance</th>\n",
       "      <th>sci-fi</th>\n",
       "      <th>thriller</th>\n",
       "      <th>war</th>\n",
       "      <th>western</th>\n",
       "    </tr>\n",
       "  </thead>\n",
       "  <tbody>\n",
       "    <tr>\n",
       "      <th>0</th>\n",
       "      <td>1</td>\n",
       "      <td>Toy Story (1995)</td>\n",
       "      <td>01-Jan-1995</td>\n",
       "      <td>NaN</td>\n",
       "      <td>http://us.imdb.com/M/title-exact?Toy%20Story%2...</td>\n",
       "      <td>0</td>\n",
       "      <td>0</td>\n",
       "      <td>0</td>\n",
       "      <td>1</td>\n",
       "      <td>1</td>\n",
       "      <td>...</td>\n",
       "      <td>0</td>\n",
       "      <td>0</td>\n",
       "      <td>0</td>\n",
       "      <td>0</td>\n",
       "      <td>0</td>\n",
       "      <td>0</td>\n",
       "      <td>0</td>\n",
       "      <td>0</td>\n",
       "      <td>0</td>\n",
       "      <td>0</td>\n",
       "    </tr>\n",
       "    <tr>\n",
       "      <th>1</th>\n",
       "      <td>2</td>\n",
       "      <td>GoldenEye (1995)</td>\n",
       "      <td>01-Jan-1995</td>\n",
       "      <td>NaN</td>\n",
       "      <td>http://us.imdb.com/M/title-exact?GoldenEye%20(...</td>\n",
       "      <td>0</td>\n",
       "      <td>1</td>\n",
       "      <td>1</td>\n",
       "      <td>0</td>\n",
       "      <td>0</td>\n",
       "      <td>...</td>\n",
       "      <td>0</td>\n",
       "      <td>0</td>\n",
       "      <td>0</td>\n",
       "      <td>0</td>\n",
       "      <td>0</td>\n",
       "      <td>0</td>\n",
       "      <td>0</td>\n",
       "      <td>1</td>\n",
       "      <td>0</td>\n",
       "      <td>0</td>\n",
       "    </tr>\n",
       "    <tr>\n",
       "      <th>2</th>\n",
       "      <td>3</td>\n",
       "      <td>Four Rooms (1995)</td>\n",
       "      <td>01-Jan-1995</td>\n",
       "      <td>NaN</td>\n",
       "      <td>http://us.imdb.com/M/title-exact?Four%20Rooms%...</td>\n",
       "      <td>0</td>\n",
       "      <td>0</td>\n",
       "      <td>0</td>\n",
       "      <td>0</td>\n",
       "      <td>0</td>\n",
       "      <td>...</td>\n",
       "      <td>0</td>\n",
       "      <td>0</td>\n",
       "      <td>0</td>\n",
       "      <td>0</td>\n",
       "      <td>0</td>\n",
       "      <td>0</td>\n",
       "      <td>0</td>\n",
       "      <td>1</td>\n",
       "      <td>0</td>\n",
       "      <td>0</td>\n",
       "    </tr>\n",
       "    <tr>\n",
       "      <th>3</th>\n",
       "      <td>4</td>\n",
       "      <td>Get Shorty (1995)</td>\n",
       "      <td>01-Jan-1995</td>\n",
       "      <td>NaN</td>\n",
       "      <td>http://us.imdb.com/M/title-exact?Get%20Shorty%...</td>\n",
       "      <td>0</td>\n",
       "      <td>1</td>\n",
       "      <td>0</td>\n",
       "      <td>0</td>\n",
       "      <td>0</td>\n",
       "      <td>...</td>\n",
       "      <td>0</td>\n",
       "      <td>0</td>\n",
       "      <td>0</td>\n",
       "      <td>0</td>\n",
       "      <td>0</td>\n",
       "      <td>0</td>\n",
       "      <td>0</td>\n",
       "      <td>0</td>\n",
       "      <td>0</td>\n",
       "      <td>0</td>\n",
       "    </tr>\n",
       "    <tr>\n",
       "      <th>4</th>\n",
       "      <td>5</td>\n",
       "      <td>Copycat (1995)</td>\n",
       "      <td>01-Jan-1995</td>\n",
       "      <td>NaN</td>\n",
       "      <td>http://us.imdb.com/M/title-exact?Copycat%20(1995)</td>\n",
       "      <td>0</td>\n",
       "      <td>0</td>\n",
       "      <td>0</td>\n",
       "      <td>0</td>\n",
       "      <td>0</td>\n",
       "      <td>...</td>\n",
       "      <td>0</td>\n",
       "      <td>0</td>\n",
       "      <td>0</td>\n",
       "      <td>0</td>\n",
       "      <td>0</td>\n",
       "      <td>0</td>\n",
       "      <td>0</td>\n",
       "      <td>1</td>\n",
       "      <td>0</td>\n",
       "      <td>0</td>\n",
       "    </tr>\n",
       "  </tbody>\n",
       "</table>\n",
       "<p>5 rows × 24 columns</p>\n",
       "</div>"
      ],
      "text/plain": [
       "   movie_id        movie_title release_date  video_release_data  \\\n",
       "0         1   Toy Story (1995)  01-Jan-1995                 NaN   \n",
       "1         2   GoldenEye (1995)  01-Jan-1995                 NaN   \n",
       "2         3  Four Rooms (1995)  01-Jan-1995                 NaN   \n",
       "3         4  Get Shorty (1995)  01-Jan-1995                 NaN   \n",
       "4         5     Copycat (1995)  01-Jan-1995                 NaN   \n",
       "\n",
       "                                            IMDB_URL  unknown  action  \\\n",
       "0  http://us.imdb.com/M/title-exact?Toy%20Story%2...        0       0   \n",
       "1  http://us.imdb.com/M/title-exact?GoldenEye%20(...        0       1   \n",
       "2  http://us.imdb.com/M/title-exact?Four%20Rooms%...        0       0   \n",
       "3  http://us.imdb.com/M/title-exact?Get%20Shorty%...        0       1   \n",
       "4  http://us.imdb.com/M/title-exact?Copycat%20(1995)        0       0   \n",
       "\n",
       "   adventure  animation  children's  ...  fantasy  film-noir  horror  musical  \\\n",
       "0          0          1           1  ...        0          0       0        0   \n",
       "1          1          0           0  ...        0          0       0        0   \n",
       "2          0          0           0  ...        0          0       0        0   \n",
       "3          0          0           0  ...        0          0       0        0   \n",
       "4          0          0           0  ...        0          0       0        0   \n",
       "\n",
       "   mystery  romance  sci-fi  thriller  war  western  \n",
       "0        0        0       0         0    0        0  \n",
       "1        0        0       0         1    0        0  \n",
       "2        0        0       0         1    0        0  \n",
       "3        0        0       0         0    0        0  \n",
       "4        0        0       0         1    0        0  \n",
       "\n",
       "[5 rows x 24 columns]"
      ]
     },
     "execution_count": 26,
     "metadata": {},
     "output_type": "execute_result"
    }
   ],
   "source": [
    "# Information about the items (movies)\n",
    "item_cols = [\"movie_id\", \"movie_title\", \"release_date\", \"video_release_data\", \"IMDB_URL\", \n",
    "        \"unknown\", \"action\", \"adventure\", \"animation\", \"children's\", \"comedy\", \n",
    "        \"crime\", \"documentary\", \"drama\", \"fantasy\", \"film-noir\", \"horror\", \"musical\", \n",
    "        \"mystery\", \"romance\", \"sci-fi\", \"thriller\", \"war\", \"western\"]\n",
    "items = pd.read_csv(\"Data/ml-100k/u.item\", sep=\"|\", names=item_cols, encoding=\"latin-1\")\n",
    "print(\"The size ofß item dataset: \" + str(items.shape))\n",
    "items.head()"
   ]
  },
  {
   "cell_type": "markdown",
   "metadata": {},
   "source": [
    "### (b) Transform Data"
   ]
  },
  {
   "cell_type": "markdown",
   "metadata": {},
   "source": [
    "Users' ratings would be transformed into a user-item matrix where each row represents a user and each column represents an item (a movie). The cells of this matrix will be filled with implicit feedback: that is, a value of 1 indicates a user has watched/rated the movie, and a value of 0 indicates otherwise. The following model will manipulate this binary matrix and make predictions about the cells within it. "
   ]
  },
  {
   "cell_type": "code",
   "execution_count": 27,
   "metadata": {},
   "outputs": [],
   "source": [
    "def user_item_matrix(ratings, items):\n",
    "    \"\"\"\n",
    "    Generates a user-item matrix\n",
    "\n",
    "    :param ratings: ratings dataframe\n",
    "    :param items: items datafrane\n",
    "    :return: a user-item matrix\n",
    "    \"\"\"\n",
    "    user_num = ratings[\"user_id\"].unique().shape[0]\n",
    "    movie_num = items.shape[0]\n",
    "\n",
    "    # matrix[u,m] == 0 if user u has not watched movie m\n",
    "    # matrix[u,m] == 1 if user u has watched movie m\n",
    "    matrix = np.zeros((user_num, movie_num)) # rows: users, cols: movies\n",
    "    users = sorted(ratings[\"user_id\"].unique())\n",
    "    for idx, user in enumerate(users):\n",
    "        movie_watched = ratings.loc[ratings[\"user_id\"]==user][\"movie_id\"].unique()-1\n",
    "        matrix[idx, movie_watched] = 1  # marks watched movies' columns to 1; zero otherwise.\n",
    "    return torch.Tensor(matrix)"
   ]
  },
  {
   "cell_type": "markdown",
   "metadata": {},
   "source": [
    "### (c) Autoencoder Model"
   ]
  },
  {
   "cell_type": "markdown",
   "metadata": {},
   "source": [
    "An autoencoder would be implemented to reconstruct users' preferences for all items (movies). The input is a vector whose dimension is equal to the number of items. The autoencoder is an multilayer perceptron with LeakyReLU(0.2) activation. The activation function introduces non-linearity into the output of a neuron and helps to avoid the vanishing gradient problem. The dimensions of hidden layers are [512, 256, 32, 256, 512]. The output layer is a linear layer with Sigmoid activation function. The output has the same dimension as the input."
   ]
  },
  {
   "cell_type": "code",
   "execution_count": 28,
   "metadata": {},
   "outputs": [],
   "source": [
    "class auto_encoder(torch.nn.Module): \n",
    "    \"\"\"\n",
    "    Autoencoder model class\n",
    "    \"\"\"\n",
    "    def __init__(self, input_dim):\n",
    "        \"\"\"\n",
    "        Initializes an object of auto_encoder\n",
    "\n",
    "        :param input_dim: the dimension of input\n",
    "        \"\"\"\n",
    "        super(auto_encoder, self).__init__()\n",
    "        # Encoder\n",
    "        self.encoder = torch.nn.Sequential(\n",
    "            torch.nn.Linear(input_dim, 512), # input layer\n",
    "            torch.nn.Linear(512, 256), # hidden layer\n",
    "            torch.nn.LeakyReLU(0.2), \n",
    "            torch.nn.Linear(256, 32)\n",
    "        )\n",
    "        # Decoder\n",
    "        self.decoder = torch.nn.Sequential(\n",
    "            torch.nn.Linear(32, 256),\n",
    "            torch.nn.LeakyReLU(0.2),\n",
    "            torch.nn.Linear(256, 512),\n",
    "            torch.nn.Linear(512, input_dim), # output layer\n",
    "            torch.nn.Sigmoid() # convert logits into probabilities [0, 1].\n",
    "        )\n",
    "        return \n",
    "\n",
    "\n",
    "    def forward(self, x):\n",
    "        \"\"\"\n",
    "        Function to do a forward propagation in the neural network\n",
    "\n",
    "        :param x: the input fed into the model\n",
    "        :return: the output from the model\n",
    "        \"\"\"\n",
    "        # forward pass through the network\n",
    "        x = self.encoder(x)\n",
    "        x = self.decoder(x)\n",
    "        return x"
   ]
  },
  {
   "cell_type": "markdown",
   "metadata": {},
   "source": [
    "### (d) Train Model"
   ]
  },
  {
   "cell_type": "code",
   "execution_count": 29,
   "metadata": {},
   "outputs": [
    {
     "name": "stdout",
     "output_type": "stream",
     "text": [
      "0.063047\n"
     ]
    }
   ],
   "source": [
    "# check if there are users who rate the same movie more than one time.\n",
    "num_dup = ratings_all[ratings_all.duplicated(subset=['user_id', 'movie_id'])].shape[0]\n",
    "# print(num_dup)\n",
    "# calcuate the sparsity if using actual ratings to fill the user-item matrix\n",
    "sparcity = round((ratings_all.shape[0] - num_dup)/(num_user * num_movie),6) # formula: # ratings/total # entries\n",
    "print(sparcity)"
   ]
  },
  {
   "cell_type": "code",
   "execution_count": 30,
   "metadata": {},
   "outputs": [
    {
     "name": "stdout",
     "output_type": "stream",
     "text": [
      "(80000, 4)\n",
      "Train data size is (754, 1682)\n",
      "Validation data size is (189, 1682)\n"
     ]
    }
   ],
   "source": [
    "# train and validation data from u1.base.\n",
    "ratings_train = pd.read_csv(\"Data/ml-100k/u1.base\", sep=\"\\t\", names=sel_cols, encoding=\"latin-1\")\n",
    "print(ratings_train.shape)\n",
    "# obtain the dataset (user-item matrix) for training the model\n",
    "data = user_item_matrix(ratings_train, items)\n",
    "sample_size = int(len(data)*0.8)\n",
    "# split the data into train and validation datasets (80% vs. 20%)\n",
    "train_data = data[:sample_size].to(device)\n",
    "val_data = data[sample_size:].to(device)\n",
    "print(\"Train data size is ({}, {})\".format(train_data.shape[0], train_data.shape[1]))\n",
    "print(\"Validation data size is ({}, {})\".format(val_data.shape[0], val_data.shape[1]))"
   ]
  },
  {
   "cell_type": "code",
   "execution_count": 31,
   "metadata": {},
   "outputs": [],
   "source": [
    "# create an instance of autoencoder, and move it to the device\n",
    "model = auto_encoder(train_data.shape[1]).to(device)\n",
    "# determine hyperparameters of the model: loss function, optimizer, learning rate, epochs\n",
    "loss_function = torch.nn.BCELoss() # Binary Cross Entropy loss between the target and the output, used to optimize the model during training\n",
    "optimizer = torch.optim.Adam(model.parameters(), lr=0.001) # Adam optimizer: learn parameters of the neural network with a rate of 0.001\n",
    "EPOCHS = 150 # one epoch refers to one entire passing of traning data\n",
    "\n",
    "train_loss = []\n",
    "val_loss = []\n",
    "for epoch in range(EPOCHS):\n",
    "    train_data = train_data[torch.randperm(train_data.shape[0])]\n",
    "    \n",
    "    optimizer.zero_grad() # clear the gradients from the previous training step\n",
    "    train_predicted = model(train_data)\n",
    "    loss = loss_function(train_predicted, train_data)\n",
    "    loss.backward() # calculate the gradients (first derivative) of loss during the backward pass in the neural network\n",
    "    optimizer.step() # update the parameters of the neural network\n",
    "    train_loss.append(loss.item())\n",
    "    \n",
    "    model.eval() # set the model to evaluation mode \n",
    "    val_predicted = model(val_data)\n",
    "    loss = loss_function(val_predicted, val_data)\n",
    "    val_loss.append(loss.item())\n",
    "    model.train() # set the model to train mode\n",
    "_ = model.eval()"
   ]
  },
  {
   "cell_type": "markdown",
   "metadata": {},
   "source": [
    "The purpose of the Cross-Entropy Loss is to take the output probabilities and measure the distance from the truth values. During model training, the model weights are iteratively adjusted accordingly with the aim of minimizing the Cross-Entropy loss.\n",
    "\n",
    "This loss is measured as a number between 0 and 1. The smaller the loss, the smaller the reconstruction error of the autoencoer model.\n",
    "\n",
    "The figure shows training/validation loss vs epoch."
   ]
  },
  {
   "cell_type": "code",
   "execution_count": 32,
   "metadata": {},
   "outputs": [
    {
     "data": {
      "image/png": "[encoded data removed]",
      "text/plain": [
       "<Figure size 1000x600 with 1 Axes>"
      ]
     },
     "metadata": {},
     "output_type": "display_data"
    },
    {
     "data": {
      "text/plain": [
       "<Figure size 640x480 with 0 Axes>"
      ]
     },
     "metadata": {},
     "output_type": "display_data"
    }
   ],
   "source": [
    "sns.set_palette(\"colorblind\")\n",
    "sns.set_style(\"whitegrid\", {\"axes.edgecolor\": \"black\"})\n",
    "\n",
    "# plot training loss and validation loss \n",
    "figure = plt.figure(figsize = [10, 6])\n",
    "plt.plot(np.arange(len(train_loss[:])), train_loss[:], label='Training')\n",
    "plt.plot(np.arange(len(val_loss[:])), val_loss[:], label='Validation', linewidth=3)\n",
    "plt.ylabel('Cross-Entropy Loss',fontsize=16)\n",
    "plt.xlabel('Epoch',fontsize=16)\n",
    "plt.title(\"Autoencoder Model\", fontsize=20)\n",
    "plt.legend(fontsize=15)\n",
    "plt.show() \n",
    "plt.savefig('./autoencoder_loss.png')"
   ]
  },
  {
   "cell_type": "markdown",
   "metadata": {},
   "source": [
    "### (e) Test Model"
   ]
  },
  {
   "cell_type": "code",
   "execution_count": 33,
   "metadata": {},
   "outputs": [
    {
     "name": "stdout",
     "output_type": "stream",
     "text": [
      "(20000, 4)\n",
      "The cross entropy loss obtained from test data is 0.0870229\n"
     ]
    }
   ],
   "source": [
    "# test data from u1.test\n",
    "ratings_test = pd.read_csv(\"Data/ml-100k/u1.test\", sep=\"\\t\", names=sel_cols, encoding=\"latin-1\")\n",
    "print(ratings_test.shape)\n",
    "test_data = user_item_matrix(ratings_test, items).to(device)\n",
    "test_predicted = model(test_data) # reconstruct users' preferences through the model\n",
    "test_loss = loss_function(test_predicted, test_data).item() # between 0 and 1, with 0 being a perfect model\n",
    "print(\"The cross entropy loss obtained from test data is {:.6}\".format(test_loss))"
   ]
  },
  {
   "cell_type": "markdown",
   "metadata": {},
   "source": [
    "The autoencoer model is trained to make output (predicted values) as close as possible to the desired output (truth values). The model output ranges from 0 to 1, indicating the probability that a user will watch a movie. \n",
    "\n",
    "\n",
    "To map the output into a binary class, we need to set a thresholod which governs the choice to turn a the probability into a class label. The decision threshold used here is 0.5 to interpret probabilities to class 0 or 1. If the predicted probability is greater than 0.5, it is classified as 1, otherwise it is classified as 0."
   ]
  },
  {
   "cell_type": "markdown",
   "metadata": {},
   "source": [
    "Use precision and recall (metrics used to measure the performance of a classifier) to evaluate the autoencoder model.\n",
    "\n",
    "* Precision is defined as the number of true positives (tp) over the number of true positives (tp) plus the number of false positives (fp). Precision measures the proportion of recommended items that are actually relevant and is directly related to our business objective.\n",
    "\n",
    "* Recall is defined as the number of true positives (tp) over the number of true positives (tp) plus the number of false negatives (fn). The recall is intuitively the ability of the classifier to find all the positive samples. Recall indicates the proportion of relevant items that are in the recommended list."
   ]
  },
  {
   "cell_type": "code",
   "execution_count": 34,
   "metadata": {},
   "outputs": [
    {
     "name": "stdout",
     "output_type": "stream",
     "text": [
      "The average precision across all users is 0.7111.\n",
      "The average recall across all users is 0.2161.\n"
     ]
    }
   ],
   "source": [
    "# calculate precision and recall of every user\n",
    "precision = []\n",
    "recall = []\n",
    "data_all = user_item_matrix(ratings_all, items)\n",
    "for user in range(data_all.shape[0]):\n",
    "    user_targets = data_all[user].to(device)\n",
    "    # here, a threshold of 0.5 is used to divide output into 0 or 1 classes\n",
    "    user_predictions = torch.round(model(user_targets)) \n",
    "    user_predictions = user_predictions.cpu().detach().numpy()\n",
    "    user_targets = user_targets.cpu().detach().numpy()\n",
    "    precision.append(precision_score(user_targets, user_predictions, zero_division=1))\n",
    "    recall.append(recall_score(user_targets, user_predictions))\n",
    "\n",
    "print(\"The average precision across all users is {:.4f}.\".format(np.mean(precision)))\n",
    "print(\"The average recall across all users is {:.4f}.\".format(np.mean(recall)))"
   ]
  },
  {
   "cell_type": "code",
   "execution_count": 35,
   "metadata": {},
   "outputs": [
    {
     "data": {
      "image/png": "[encoded data removed]",
      "text/plain": [
       "<Figure size 1000x500 with 2 Axes>"
      ]
     },
     "metadata": {},
     "output_type": "display_data"
    }
   ],
   "source": [
    "figure, axs = plt.subplots(1,2, sharex='col', sharey='row', figsize=(10, 5))\n",
    "axs[0].hist(precision, color='r', bins=20)\n",
    "axs[0].axvline(x=np.mean(precision), c='black', ls=\"--\")\n",
    "axs[0].set_title(\"Precision\", fontsize='medium')\n",
    "axs[1].hist(recall, color='b', bins=20)\n",
    "axs[1].axvline(x=np.mean(recall), c='black', ls=\"--\")\n",
    "axs[1].set_title(\"Recall\", fontsize='medium')\n",
    "plt.show()"
   ]
  },
  {
   "cell_type": "markdown",
   "metadata": {},
   "source": [
    "### (f) Make Movie Recommendations"
   ]
  },
  {
   "cell_type": "markdown",
   "metadata": {},
   "source": [
    "Recommend the top-10 best NEW movies for every user based on the preference reconstructed by the model. The NEW movies here refer to movies a user hasn't watched.\n",
    "* Find out movies that a user hasn't watched\n",
    "* Sort the model predictions in descending order and get the top 10"
   ]
  },
  {
   "cell_type": "code",
   "execution_count": 36,
   "metadata": {},
   "outputs": [
    {
     "name": "stdout",
     "output_type": "stream",
     "text": [
      "The top-10 best NEW movies recommended to the first user:\n"
     ]
    },
    {
     "data": {
      "text/html": [
       "<div>\n",
       "<style scoped>\n",
       "    .dataframe tbody tr th:only-of-type {\n",
       "        vertical-align: middle;\n",
       "    }\n",
       "\n",
       "    .dataframe tbody tr th {\n",
       "        vertical-align: top;\n",
       "    }\n",
       "\n",
       "    .dataframe thead th {\n",
       "        text-align: right;\n",
       "    }\n",
       "</style>\n",
       "<table border=\"1\" class=\"dataframe\">\n",
       "  <thead>\n",
       "    <tr style=\"text-align: right;\">\n",
       "      <th></th>\n",
       "      <th>user_id</th>\n",
       "      <th>movie_id</th>\n",
       "      <th>movie_title</th>\n",
       "      <th>rating_pred</th>\n",
       "    </tr>\n",
       "  </thead>\n",
       "  <tbody>\n",
       "    <tr>\n",
       "      <th>0</th>\n",
       "      <td>1</td>\n",
       "      <td>423</td>\n",
       "      <td>E.T. the Extra-Terrestrial (1982)</td>\n",
       "      <td>0.873609</td>\n",
       "    </tr>\n",
       "    <tr>\n",
       "      <th>1</th>\n",
       "      <td>1</td>\n",
       "      <td>405</td>\n",
       "      <td>Mission: Impossible (1996)</td>\n",
       "      <td>0.864239</td>\n",
       "    </tr>\n",
       "    <tr>\n",
       "      <th>2</th>\n",
       "      <td>1</td>\n",
       "      <td>385</td>\n",
       "      <td>True Lies (1994)</td>\n",
       "      <td>0.789966</td>\n",
       "    </tr>\n",
       "    <tr>\n",
       "      <th>3</th>\n",
       "      <td>1</td>\n",
       "      <td>568</td>\n",
       "      <td>Speed (1994)</td>\n",
       "      <td>0.783548</td>\n",
       "    </tr>\n",
       "    <tr>\n",
       "      <th>4</th>\n",
       "      <td>1</td>\n",
       "      <td>546</td>\n",
       "      <td>Broken Arrow (1996)</td>\n",
       "      <td>0.768763</td>\n",
       "    </tr>\n",
       "    <tr>\n",
       "      <th>5</th>\n",
       "      <td>1</td>\n",
       "      <td>393</td>\n",
       "      <td>Mrs. Doubtfire (1993)</td>\n",
       "      <td>0.718237</td>\n",
       "    </tr>\n",
       "    <tr>\n",
       "      <th>6</th>\n",
       "      <td>1</td>\n",
       "      <td>403</td>\n",
       "      <td>Batman (1989)</td>\n",
       "      <td>0.717884</td>\n",
       "    </tr>\n",
       "    <tr>\n",
       "      <th>7</th>\n",
       "      <td>1</td>\n",
       "      <td>318</td>\n",
       "      <td>Schindler's List (1993)</td>\n",
       "      <td>0.713431</td>\n",
       "    </tr>\n",
       "    <tr>\n",
       "      <th>8</th>\n",
       "      <td>1</td>\n",
       "      <td>655</td>\n",
       "      <td>Stand by Me (1986)</td>\n",
       "      <td>0.705373</td>\n",
       "    </tr>\n",
       "    <tr>\n",
       "      <th>9</th>\n",
       "      <td>1</td>\n",
       "      <td>367</td>\n",
       "      <td>Clueless (1995)</td>\n",
       "      <td>0.698245</td>\n",
       "    </tr>\n",
       "  </tbody>\n",
       "</table>\n",
       "</div>"
      ],
      "text/plain": [
       "   user_id  movie_id                        movie_title  rating_pred\n",
       "0        1       423  E.T. the Extra-Terrestrial (1982)     0.873609\n",
       "1        1       405         Mission: Impossible (1996)     0.864239\n",
       "2        1       385                   True Lies (1994)     0.789966\n",
       "3        1       568                       Speed (1994)     0.783548\n",
       "4        1       546                Broken Arrow (1996)     0.768763\n",
       "5        1       393              Mrs. Doubtfire (1993)     0.718237\n",
       "6        1       403                      Batman (1989)     0.717884\n",
       "7        1       318            Schindler's List (1993)     0.713431\n",
       "8        1       655                 Stand by Me (1986)     0.705373\n",
       "9        1       367                    Clueless (1995)     0.698245"
      ]
     },
     "execution_count": 36,
     "metadata": {},
     "output_type": "execute_result"
    }
   ],
   "source": [
    "movies_recom = {\"user_id\": [], \"movie_id\": [], 'movie_title':[], \"rating_pred\": []}\n",
    "\n",
    "for user in range(data_all.shape[0]):\n",
    "    user_targets = data_all[user].to(device)\n",
    "    user_predictions = model(user_targets).cpu().detach().numpy()\n",
    "    user_targets = user_targets.cpu().detach().numpy()\n",
    "    unwatched = np.multiply(user_targets==0, user_predictions) # find out unwatched movies with their predictions\n",
    "    recommended = np.argsort(unwatched)[::-1][:10] # sort predictions and get the top 10\n",
    "    user_rating = user_predictions[recommended]\n",
    "\n",
    "    for rating, movie in zip(user_rating, recommended):\n",
    "        movies_recom[\"user_id\"].append(user+1) # user_id = index + 1 according to user_item_matrix()\n",
    "        movies_recom[\"movie_id\"].append(movie+1) # movie_id = index + 1 according to user_item_matrix()\n",
    "        movies_recom[\"movie_title\"].append(items.loc[items['movie_id'] == movie+1]['movie_title'].tolist()[0])\n",
    "        movies_recom[\"rating_pred\"].append(rating)\n",
    "        \n",
    "     \n",
    "movies_recom = pd.DataFrame(movies_recom)\n",
    "movies_recom.to_csv(\"Recommendation Resutls/recommended_movies.txt\", index=False)\n",
    "\n",
    "print(\"The top-10 best NEW movies recommended to the first user:\")\n",
    "movies_recom.head(10)"
   ]
  }
 ],
 "metadata": {
  "interpreter": {
   "hash": "5860c820d58a014166a47b16efd17d5942e3771dad5947280bac279721a1f9ea"
  },
  "kernelspec": {
   "display_name": "deepar-gpu:Python",
   "language": "python",
   "name": "conda-env-deepar-gpu-py"
  },
  "language_info": {
   "codemirror_mode": {
    "name": "ipython",
    "version": 3
   },
   "file_extension": ".py",
   "mimetype": "text/x-python",
   "name": "python",
   "nbconvert_exporter": "python",
   "pygments_lexer": "ipython3",
   "version": "3.10.10"
  }
 },
 "nbformat": 4,
 "nbformat_minor": 4
}
