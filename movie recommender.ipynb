{
 "cells": [
  {
   "cell_type": "markdown",
   "metadata": {},
   "source": [
    "## Recommender Systems"
   ]
  },
  {
   "cell_type": "markdown",
   "metadata": {},
   "source": [
    "[A recommender system](https://en.wikipedia.org/wiki/Recommender_system) is a subclass of information filtering system that provide suggestions for items that are most pertinent to a particular user. It works as an information filter to solve the information overload problem. \n",
    "* Personalized - tailored to individual users, based on a user's previous performance\n",
    "\n",
    "* Non personalized - most popular, recent upload, based on aggregate activities of many other users \n",
    "\n",
    "__Basic question: what items will a user like ?__\n",
    "\n",
    "Recommender systems aim to predict the “rating” or “preference” a user would give to an item. These ratings are used to determine what a user might like and make informed suggestions."
   ]
  },
  {
   "cell_type": "markdown",
   "metadata": {},
   "source": [
    "__User Preferences__:\n",
    "* explicit data - rating, review, vote\n",
    "\n",
    "* implicit data - click, purchase, follow"
   ]
  },
  {
   "cell_type": "markdown",
   "metadata": {},
   "source": [
    "__Recommendation Approaches:__\n",
    "  * Content-based filtering - relies on similarities between items themselves (uses item features to recommend other items similar to what the user likes)\n",
    "                              \n",
    "  * Collaborative filtering - relies on the assumption that similar users like similar items (recommend an item to the user based on the preference of other similar users) "
   ]
  },
  {
   "cell_type": "markdown",
   "metadata": {},
   "source": [
    "<img src=\"./Images/utility-matrix.png\" \n",
    "     align=\"left\" \n",
    "     width=\"800\" />"
   ]
  },
  {
   "cell_type": "markdown",
   "metadata": {},
   "source": [
    "The content-based approach doesn't require data on other users, but it's difficult to find appropriate features. The most significant benefit of collaborative filtering is its versatility, as it can be applied to any type of item without the need for feature selection. This explains the huge popularity of collaborative filtering because it is sort of obviating the feature selection for complex things such as images and movies."
   ]
  },
  {
   "cell_type": "markdown",
   "metadata": {},
   "source": [
    "A collaborative filtering recommender system has two types of entities - users and items. A important step in making recommendations is to build a utility matrix of ratings (or preferences).\n",
    "\n",
    "__Utility Matrix:__\n",
    " * A matrix which consists of the rating (or preference) for each user-item pair\n",
    " * Sparsity arises when most items dosen't have ratings or the most active users have rated only a marginal number of available items\n",
    "\n",
    "__The goal of a recommendation system is to predict the blanks in the utility matrix.__\n",
    "\n",
    "Matrix factorization is an extensively used technique to estimate values of the blanks in collaborative filtering recommendation systems. Its objective is to factorize a user-item matrix into two latent factor matrices, the user-factor matrix and the item-factor matrix. This allows us to predict new items that users might be interested in by taking the inner product of these two factor matrices. Matrix factorization reduces the dimensionality of the utility matrix, which compresses data and remove redundant and noisy features."
   ]
  },
  {
   "cell_type": "markdown",
   "metadata": {},
   "source": [
    "<img src=\"./Images/matrix-factorization.png\" \n",
    "     align=\"left\" \n",
    "     width=\"800\" />"
   ]
  },
  {
   "cell_type": "markdown",
   "metadata": {},
   "source": [
    "__Methods for Implementing Matrix Factorization:__\n",
    "* Principal component analysis (PCA, implemented by scikit-learn in Python)\n",
    "* Singular value decomposition (SVD, implemented by scikit-surprise in Python)"
   ]
  },
  {
   "cell_type": "markdown",
   "metadata": {},
   "source": [
    "## Autoencoder for Recommendations"
   ]
  },
  {
   "cell_type": "markdown",
   "metadata": {},
   "source": [
    "Autoencoder is a kind of neural network for unsupervised learning tasks, capable of compressing data and reducing its dimensionality.\n",
    "\n",
    "A basic autoencoder consists of three layers: input layer, hidden layer and output layer. The input layer and the hidden layer construct an encoder. The hidden layer and the output layer construct a decoder. The encoder encodes the high-dimensional input data into a low dimensional hidden representation. The decoder maps hidden representation back to a reconstruction of input data. This reconstruction allows to predict users’ preference for unseen items. \n",
    "\n",
    "In autoencoder-based recommender systems, autoencoder would help the system better understand users and items by learning the non-linear user-item relationship efficiently and encoding complex abstractions into data representations. This is because nonlinear activation functions are used during encoding and decoding, and the number of neurons in the hidden layer is reduced."
   ]
  },
  {
   "cell_type": "markdown",
   "metadata": {},
   "source": [
    "<img src=\"./Images/autoencoder.png\" \n",
    "     align=\"left\" \n",
    "     width=\"500\" />"
   ]
  },
  {
   "cell_type": "markdown",
   "metadata": {},
   "source": [
    "## An Autoecoder-based Movie Recommendation System"
   ]
  },
  {
   "cell_type": "code",
   "execution_count": 12,
   "metadata": {},
   "outputs": [],
   "source": [
    "import torch\n",
    "import pandas as pd\n",
    "import numpy as np\n",
    "import seaborn as sns \n",
    "import matplotlib.pyplot as plt\n",
    "from sklearn.metrics import precision_score, recall_score\n",
    "device = torch.device(\"cuda:0\" if torch.cuda.is_available() else \"cpu\")"
   ]
  },
  {
   "cell_type": "markdown",
   "metadata": {},
   "source": [
    "## (a) Load dataset"
   ]
  },
  {
   "cell_type": "code",
   "execution_count": 3,
   "metadata": {},
   "outputs": [
    {
     "name": "stdout",
     "output_type": "stream",
     "text": [
      "(100000, 4)\n",
      "(80000, 4)\n",
      "(20000, 4)\n"
     ]
    }
   ],
   "source": [
    "# load data for moviee 100k (all users)\n",
    "sel_cols = [\"user_id\", \"movie_id\", \"rating\", \"unix_timestamp\"]\n",
    "rating_all = pd.read_csv(\"ml-100k/u.data\", sep=\"\\t\", names=sel_cols, encoding=\"latin-1\")\n",
    "# ‘u1.base’ for training and validation\n",
    "rating_train = pd.read_csv(\"ml-100k/u1.base\", sep=\"\\t\", names=sel_cols, encoding=\"latin-1\")\n",
    "# ‘u1.test’ for testing\n",
    "rating_test = pd.read_csv(\"ml-100k/u1.test\", sep=\"\\t\", names=sel_cols, encoding=\"latin-1\")\n",
    "print(rating_all.shape)\n",
    "print(rating_train.shape)\n",
    "print(rating_test.shape)"
   ]
  },
  {
   "cell_type": "code",
   "execution_count": 10,
   "metadata": {},
   "outputs": [],
   "source": [
    "# load items file\n",
    "item_cols = [\"movie_id\", \"movie_title\", \"release_date\", \"video_release_data\", \"IMDB_URL\", \n",
    "        \"unknown\", \"action\", \"adventure\", \"animation\", \"children's\", \"comedy\", \n",
    "        \"crime\", \"documentary\", \"drama\", \"fantasy\", \"film-noir\", \"horror\", \"musical\", \n",
    "        \"mystery\", \"romance\", \"sci-fi\", \"thriller\", \"war\", \"western\"]\n",
    "items = pd.read_csv(\"ml-100k/u.item\", sep=\"|\", names=item_cols, encoding=\"latin-1\")"
   ]
  },
  {
   "cell_type": "markdown",
   "metadata": {},
   "source": [
    "## (b) Autoencoder model"
   ]
  },
  {
   "cell_type": "code",
   "execution_count": 8,
   "metadata": {},
   "outputs": [],
   "source": [
    "class UserEncoder(torch.nn.Module):\n",
    "    def __init__(self, input_dim):\n",
    "        super(UserEncoder, self).__init__()\n",
    "        # encoder\n",
    "        self.encoder = torch.nn.Sequential(\n",
    "            torch.nn.Linear(input_dim, 512), \n",
    "            torch.nn.Linear(512, 256), \n",
    "            torch.nn.LeakyReLU(0.2),\n",
    "            torch.nn.Linear(256, 32)\n",
    "        )\n",
    "        # decoder\n",
    "        self.decoder = torch.nn.Sequential(\n",
    "            torch.nn.Linear(32, 256),\n",
    "            torch.nn.LeakyReLU(0.2),\n",
    "            torch.nn.Linear(256, 512),\n",
    "            torch.nn.Linear(512, input_dim), \n",
    "            torch.nn.Sigmoid()\n",
    "        )\n",
    "        return \n",
    "\n",
    "    def forward(self, x):\n",
    "        x = self.encoder(x)\n",
    "        x = self.decoder(x)\n",
    "        return x"
   ]
  },
  {
   "cell_type": "markdown",
   "metadata": {},
   "source": [
    "## (c) Model training and testing "
   ]
  },
  {
   "cell_type": "code",
   "execution_count": null,
   "metadata": {},
   "outputs": [],
   "source": [
    "def user_data(rating, items):\n",
    "    users_num = rating[\"user_id\"].unique().shape[0]\n",
    "    movies_num = items.shape[0]\n",
    "    users = sorted(rating[\"user_id\"].unique())\n",
    "    user_data = np.zeros((users_num, movies_num)) # 0：a user hasn't watched a movie\n",
    "    for i, user in enumerate(users):\n",
    "        movies_watched = rating.loc[rating[\"user_id\"]==user][\"movie_id\"].unique()-1\n",
    "        user_data[i, movies_watched] = 1  # 1：a user has watched the movie\n",
    "    return torch.Tensor(user_data)"
   ]
  },
  {
   "cell_type": "code",
   "execution_count": 18,
   "metadata": {},
   "outputs": [
    {
     "name": "stdout",
     "output_type": "stream",
     "text": [
      "Training data size is torch.Size([754, 1682])\n",
      "Validation data size is torch.Size([189, 1682])\n"
     ]
    }
   ],
   "source": [
    "\n",
    "data = user_data(rating_train, items)\n",
    "sample_size = int(len(data)*0.8)\n",
    "train_data = data[:sample_size].to(device)\n",
    "val_data = data[sample_size:].to(device)\n",
    "print(\"Training data size is {}\".format(train_data.shape))\n",
    "print(\"Validation data size is {}\".format(val_data.shape))"
   ]
  },
  {
   "cell_type": "code",
   "execution_count": 26,
   "metadata": {},
   "outputs": [],
   "source": [
    "model = UserEncoder(train_data.shape[1]).to(device)\n",
    "loss_function = torch.nn.BCELoss()\n",
    "optimizer = torch.optim.Adam(model.parameters(), lr=0.001)\n",
    "\n",
    "train_loss = []\n",
    "val_loss = []\n",
    "\n",
    "EPOCHS = 150\n",
    "for epoch in range(EPOCHS):\n",
    "    train_data = train_data[torch.randperm(train_data.shape[0])]\n",
    "    \n",
    "    optimizer.zero_grad()\n",
    "    train_predicted = model(train_data)\n",
    "    loss = loss_function(train_predicted, train_data)\n",
    "    loss.backward()\n",
    "    optimizer.step()\n",
    "    train_loss.append(loss.item())\n",
    "    \n",
    "    model.eval()\n",
    "    val_predicted = model(val_data)\n",
    "    loss = loss_function(val_predicted, val_data)\n",
    "    val_loss.append(loss.item())\n",
    "    model.train()\n",
    "    \n",
    "_ = model.eval()"
   ]
  },
  {
   "cell_type": "markdown",
   "metadata": {},
   "source": [
    "The figure of training/validation loss vs epoch\n"
   ]
  },
  {
   "cell_type": "code",
   "execution_count": 27,
   "metadata": {},
   "outputs": [
    {
     "data": {
      "image/png": "[encoded data removed]",
      "text/plain": [
       "<Figure size 864x576 with 1 Axes>"
      ]
     },
     "metadata": {
      "needs_background": "light"
     },
     "output_type": "display_data"
    }
   ],
   "source": [
    "figure = plt.figure(figsize = [12, 8])\n",
    "plt.plot(np.arange(len(train_loss[:])), train_loss[:], label='Training')\n",
    "plt.plot(np.arange(len(val_loss[:])), val_loss[:], label='Validation', linewidth=3)\n",
    "plt.ylabel('Loss',fontsize=20)\n",
    "plt.xlabel('Epoch',fontsize=20)\n",
    "plt.title(\"Autoencoder Model (learning rate: 0.001)\", fontsize=20)\n",
    "plt.legend(fontsize=15)\n",
    "plt.savefig('./hm3_pro2_autoencoder_loss.png')\n",
    "plt.show() "
   ]
  },
  {
   "cell_type": "markdown",
   "metadata": {},
   "source": [
    "Evaluate the validation and test performance of the model."
   ]
  },
  {
   "cell_type": "code",
   "execution_count": 31,
   "metadata": {},
   "outputs": [
    {
     "name": "stdout",
     "output_type": "stream",
     "text": [
      "The valiation loss is 0.131984\n",
      "The test loss is 0.0853348\n"
     ]
    }
   ],
   "source": [
    "test_data = user_data(rating_test, items).to(device)\n",
    "test_predicted = model(test_data)\n",
    "test_loss = loss_function(test_predicted, test_data).item()\n",
    "print(\"The valiation loss is {:.6}\".format(val_loss[149]))\n",
    "print(\"The test loss is {:.6}\".format(test_loss))"
   ]
  },
  {
   "cell_type": "markdown",
   "metadata": {},
   "source": [
    "Precision and recall for all users"
   ]
  },
  {
   "cell_type": "code",
   "execution_count": null,
   "metadata": {},
   "outputs": [],
   "source": [
    "data_all = user_data(rating_all, items)\n",
    "precision = []\n",
    "recall = []\n",
    "\n",
    "for user in range(data_all.shape[0]):\n",
    "    user_targets = data_all[user].to(device)\n",
    "    user_predictions = torch.round(model(user_targets))\n",
    "    user_predictions = user_predictions.cpu().detach().numpy()\n",
    "    user_targets = user_targets.cpu().detach().numpy()\n",
    "    precision.append(precision_score(user_targets, user_predictions, zero_division=1))\n",
    "    recall.append(recall_score(user_targets, user_predictions))"
   ]
  },
  {
   "cell_type": "code",
   "execution_count": 50,
   "metadata": {},
   "outputs": [
    {
     "data": {
      "image/png": "[encoded data removed]",
      "text/plain": [
       "<Figure size 576x432 with 1 Axes>"
      ]
     },
     "metadata": {
      "needs_background": "light"
     },
     "output_type": "display_data"
    },
    {
     "name": "stdout",
     "output_type": "stream",
     "text": [
      "This figure shows the distribution of empirical probability for both precision and recall (dashed line refers to the average score).\n",
      "The precision average score is 0.7040.\n",
      "The recall average score is 0.2442.\n"
     ]
    }
   ],
   "source": [
    "figure = plt.figure(figsize = [8, 6])\n",
    "ax = sns.kdeplot(precision, c='r')\n",
    "ax = sns.kdeplot(recall, ax=ax, c='b')\n",
    "plt.legend([\"Precision\", \"Recall\"], framealpha=1)\n",
    "plt.axvline(x=np.mean(precision), c='r', ls=\"--\")\n",
    "plt.axvline(x=np.mean(recall), c='b', ls=\"--\")\n",
    "plt.ylabel(\"Empirical probability \")\n",
    "plt.xlabel(\"Scores\")\n",
    "plt.show()\n",
    "\n",
    "print(\"This figure shows the distribution of empirical probability for both precision and recall (dashed line refers to the average score).\")\n",
    "print(\"The precision average score is {:.4f}.\".format(np.mean(precision)))\n",
    "print(\"The recall average score is {:.4f}.\".format(np.mean(recall)))"
   ]
  },
  {
   "cell_type": "markdown",
   "metadata": {},
   "source": [
    "## (d) Recommend the top-10 best NEW movies "
   ]
  },
  {
   "cell_type": "code",
   "execution_count": 47,
   "metadata": {},
   "outputs": [
    {
     "name": "stdout",
     "output_type": "stream",
     "text": [
      "The top-10 best NEW movies recommended by the first user:\n"
     ]
    },
    {
     "data": {
      "text/html": [
       "<div>\n",
       "<style scoped>\n",
       "    .dataframe tbody tr th:only-of-type {\n",
       "        vertical-align: middle;\n",
       "    }\n",
       "\n",
       "    .dataframe tbody tr th {\n",
       "        vertical-align: top;\n",
       "    }\n",
       "\n",
       "    .dataframe thead th {\n",
       "        text-align: right;\n",
       "    }\n",
       "</style>\n",
       "<table border=\"1\" class=\"dataframe\">\n",
       "  <thead>\n",
       "    <tr style=\"text-align: right;\">\n",
       "      <th></th>\n",
       "      <th>User_ID</th>\n",
       "      <th>Rating</th>\n",
       "      <th>Movie_ID</th>\n",
       "    </tr>\n",
       "  </thead>\n",
       "  <tbody>\n",
       "    <tr>\n",
       "      <th>0</th>\n",
       "      <td>1</td>\n",
       "      <td>0.829406</td>\n",
       "      <td>423</td>\n",
       "    </tr>\n",
       "    <tr>\n",
       "      <th>1</th>\n",
       "      <td>1</td>\n",
       "      <td>0.828816</td>\n",
       "      <td>405</td>\n",
       "    </tr>\n",
       "    <tr>\n",
       "      <th>2</th>\n",
       "      <td>1</td>\n",
       "      <td>0.772716</td>\n",
       "      <td>385</td>\n",
       "    </tr>\n",
       "    <tr>\n",
       "      <th>3</th>\n",
       "      <td>1</td>\n",
       "      <td>0.748772</td>\n",
       "      <td>568</td>\n",
       "    </tr>\n",
       "    <tr>\n",
       "      <th>4</th>\n",
       "      <td>1</td>\n",
       "      <td>0.743764</td>\n",
       "      <td>546</td>\n",
       "    </tr>\n",
       "    <tr>\n",
       "      <th>5</th>\n",
       "      <td>1</td>\n",
       "      <td>0.724792</td>\n",
       "      <td>318</td>\n",
       "    </tr>\n",
       "    <tr>\n",
       "      <th>6</th>\n",
       "      <td>1</td>\n",
       "      <td>0.706313</td>\n",
       "      <td>367</td>\n",
       "    </tr>\n",
       "    <tr>\n",
       "      <th>7</th>\n",
       "      <td>1</td>\n",
       "      <td>0.695343</td>\n",
       "      <td>655</td>\n",
       "    </tr>\n",
       "    <tr>\n",
       "      <th>8</th>\n",
       "      <td>1</td>\n",
       "      <td>0.681420</td>\n",
       "      <td>288</td>\n",
       "    </tr>\n",
       "    <tr>\n",
       "      <th>9</th>\n",
       "      <td>1</td>\n",
       "      <td>0.666936</td>\n",
       "      <td>393</td>\n",
       "    </tr>\n",
       "  </tbody>\n",
       "</table>\n",
       "</div>"
      ],
      "text/plain": [
       "   User_ID    Rating  Movie_ID\n",
       "0        1  0.829406       423\n",
       "1        1  0.828816       405\n",
       "2        1  0.772716       385\n",
       "3        1  0.748772       568\n",
       "4        1  0.743764       546\n",
       "5        1  0.724792       318\n",
       "6        1  0.706313       367\n",
       "7        1  0.695343       655\n",
       "8        1  0.681420       288\n",
       "9        1  0.666936       393"
      ]
     },
     "execution_count": 47,
     "metadata": {},
     "output_type": "execute_result"
    }
   ],
   "source": [
    "movies_recom = {\"User_ID\": [], \"Rating\": [], \"Movie_ID\": [], }\n",
    "\n",
    "for user in range(data_all.shape[0]):\n",
    "    user_targets = data_all[user].to(device)\n",
    "\n",
    "    user_predictions = model(user_targets).cpu().detach().numpy()\n",
    "    user_targets = user_targets.cpu().detach().numpy()\n",
    "    unwatched = np.multiply(user_targets==0, user_predictions) \n",
    "    recommended = np.argsort(unwatched)[::-1][:10] \n",
    "    user_rating = user_predictions[recommended]\n",
    "\n",
    "    for r_s, m_id in zip(user_rating, recommended):\n",
    "        movies_recom[\"User_ID\"].append(user+1) \n",
    "        movies_recom[\"Rating\"].append(r_s)\n",
    "        movies_recom[\"Movie_ID\"].append(m_id+1) \n",
    "        \n",
    "movies_recom = pd.DataFrame(movies_recom)\n",
    "movies_recom.to_csv(\"pred_autoencoder.txt\", index=False)\n",
    "\n",
    "print(\"The top-10 best NEW movies recommended to the first user:\")\n",
    "movies_recom.head(10)"
   ]
  }
 ],
 "metadata": {
  "interpreter": {
   "hash": "5860c820d58a014166a47b16efd17d5942e3771dad5947280bac279721a1f9ea"
  },
  "kernelspec": {
   "display_name": "deepar-gpu:Python",
   "language": "python",
   "name": "conda-env-deepar-gpu-py"
  },
  "language_info": {
   "codemirror_mode": {
    "name": "ipython",
    "version": 3
   },
   "file_extension": ".py",
   "mimetype": "text/x-python",
   "name": "python",
   "nbconvert_exporter": "python",
   "pygments_lexer": "ipython3",
   "version": "3.10.10"
  }
 },
 "nbformat": 4,
 "nbformat_minor": 4
}
